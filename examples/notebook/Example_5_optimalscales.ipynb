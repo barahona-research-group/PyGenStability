{
 "cells": [
  {
   "cell_type": "markdown",
   "metadata": {},
   "source": [
    "# Example 5: Identifying the optimal scales\n",
    "\n",
    "Here we use an unsupervised method to identify the most robust partitions based on the Variation of Information."
   ]
  },
  {
   "cell_type": "code",
   "execution_count": null,
   "metadata": {},
   "outputs": [],
   "source": [
    "import networkx as nx\n",
    "import matplotlib.pyplot as plt\n",
    "\n",
    "from pygenstability import run, plotting \n",
    "from pygenstability.contrib import optimal_scales\n",
    "\n",
    "import create_graph"
   ]
  },
  {
   "cell_type": "code",
   "execution_count": null,
   "metadata": {},
   "outputs": [],
   "source": [
    "# get an SBM graph\n",
    "graph = create_graph.create_sbm()"
   ]
  },
  {
   "cell_type": "code",
   "execution_count": null,
   "metadata": {},
   "outputs": [],
   "source": [
    "all_results = run(graph, min_time=-1, max_time=1, n_time=50, \n",
    "                  constructor='continuous_normalized')"
   ]
  },
  {
   "cell_type": "code",
   "execution_count": null,
   "metadata": {},
   "outputs": [],
   "source": [
    "# use the optimal scales function \n",
    "all_results = optimal_scales.identify_optimal_scales(all_results, window_size=5, \n",
    "                                                     VI_cutoff=0.1, criterion_threshold=0.9)"
   ]
  },
  {
   "cell_type": "code",
   "execution_count": null,
   "metadata": {},
   "outputs": [],
   "source": [
    "# plotting with optimal scales (red dots are optimal scales)\n",
    "optimal_scales.plot_optimal_scales(all_results, use_plotly=True)"
   ]
  },
  {
   "cell_type": "code",
   "execution_count": null,
   "metadata": {},
   "outputs": [],
   "source": [
    "# plotting with optimal scales with matplotlib\n",
    "optimal_scales.plot_optimal_scales(all_results, use_plotly=False)"
   ]
  },
  {
   "cell_type": "code",
   "execution_count": null,
   "metadata": {},
   "outputs": [],
   "source": [
    "nx_graph = nx.Graph(graph)\n",
    "\n",
    "pos = nx.spring_layout(nx_graph, weight=None, scale=1)\n",
    "for u in nx_graph:\n",
    "    nx_graph.nodes[u][\"pos\"] = pos[u]\n",
    "    \n",
    "for optimal_t in all_results['selected_partitions']:\n",
    "    plt.figure()\n",
    "    plotting.plot_single_community(nx_graph, all_results, optimal_t)"
   ]
  }
 ],
 "metadata": {
  "kernelspec": {
   "display_name": "Python 3",
   "language": "python",
   "name": "python3"
  },
  "language_info": {
   "codemirror_mode": {
    "name": "ipython",
    "version": 3
   },
   "file_extension": ".py",
   "mimetype": "text/x-python",
   "name": "python",
   "nbconvert_exporter": "python",
   "pygments_lexer": "ipython3",
   "version": "3.8.7"
  }
 },
 "nbformat": 4,
 "nbformat_minor": 4
}
