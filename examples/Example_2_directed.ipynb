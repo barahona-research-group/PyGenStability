{
 "cells": [
  {
   "cell_type": "markdown",
   "metadata": {},
   "source": [
    "# Example 2: Markov Stability applied to directed graph"
   ]
  },
  {
   "cell_type": "code",
   "execution_count": 1,
   "metadata": {},
   "outputs": [],
   "source": [
    "import networkx as nx\n",
    "\n",
    "from pygenstability import run, plotting, constructors"
   ]
  },
  {
   "cell_type": "code",
   "execution_count": 2,
   "metadata": {},
   "outputs": [
    {
     "name": "stderr",
     "output_type": "stream",
     "text": [
      "/tmp/ipykernel_54099/3871690300.py:4: DeprecationWarning: \n",
      "\n",
      "The scipy.sparse array containers will be used instead of matrices\n",
      "in Networkx 3.0. Use `to_scipy_sparse_array` instead.\n",
      "  adjacency = nx.to_scipy_sparse_matrix(nx_graph)\n"
     ]
    }
   ],
   "source": [
    "# creating directed partitioned graph\n",
    "\n",
    "nx_graph = nx.planted_partition_graph(4, 20, 0.3, 0.01, seed=42, directed=True)\n",
    "adjacency = nx.to_scipy_sparse_matrix(nx_graph)"
   ]
  },
  {
   "cell_type": "code",
   "execution_count": 3,
   "metadata": {},
   "outputs": [],
   "source": [
    "# defining the constructor externally\n",
    "\n",
    "directed_constructor = constructors.load_constructor('directed', adjacency, alpha=0.85)"
   ]
  },
  {
   "cell_type": "code",
   "execution_count": 4,
   "metadata": {},
   "outputs": [
    {
     "name": "stderr",
     "output_type": "stream",
     "text": [
      "Your graph is directed!\n",
      "100%|██████████| 20/20 [00:00<00:00, 24.52it/s]\n",
      "100%|██████████| 20/20 [00:09<00:00,  2.02it/s]\n",
      "100%|██████████| 20/20 [00:00<00:00, 84.59it/s]\n"
     ]
    }
   ],
   "source": [
    "# scan markov scale for communities\n",
    "\n",
    "all_results = run(adjacency, min_scale=-1, max_scale = 1, constructor=directed_constructor)"
   ]
  },
  {
   "cell_type": "code",
   "execution_count": 5,
   "metadata": {},
   "outputs": [
    {
     "data": {
      "application/vnd.plotly.v1+json": {
       "config": {
        "plotlyServerURL": "https://plot.ly"
       },
       "data": [
        {
         "hovertemplate": "<b>scale</b>: %{x:.2f}, <br>%{text}<extra></extra>",
         "marker": {
          "color": "blue"
         },
         "mode": "lines+markers",
         "name": "Stability",
         "text": [
          "Number of communities: 46, <br> Stability: 0.897,\n        <br> Normalised Variation Information: 0.057, <br> Index: 0",
          "Number of communities: 38, <br> Stability: 0.877,\n        <br> Normalised Variation Information: 0.101, <br> Index: 1",
          "Number of communities: 33, <br> Stability: 0.854,\n        <br> Normalised Variation Information: 0.109, <br> Index: 2",
          "Number of communities: 25, <br> Stability: 0.828,\n        <br> Normalised Variation Information: 0.147, <br> Index: 3",
          "Number of communities: 22, <br> Stability: 0.798,\n        <br> Normalised Variation Information: 0.152, <br> Index: 4",
          "Number of communities: 18, <br> Stability: 0.762,\n        <br> Normalised Variation Information: 0.154, <br> Index: 5",
          "Number of communities: 14, <br> Stability: 0.721,\n        <br> Normalised Variation Information: 0.237, <br> Index: 6",
          "Number of communities: 14, <br> Stability: 0.721,\n        <br> Normalised Variation Information: 0.206, <br> Index: 7",
          "Number of communities: 6, <br> Stability: 0.632,\n        <br> Normalised Variation Information: 0.101, <br> Index: 8",
          "Number of communities: 5, <br> Stability: 0.593,\n        <br> Normalised Variation Information: 0.054, <br> Index: 9",
          "Number of communities: 5, <br> Stability: 0.593,\n        <br> Normalised Variation Information: 0.013, <br> Index: 10",
          "Number of communities: 4, <br> Stability: 0.51,\n        <br> Normalised Variation Information: 0.0, <br> Index: 11",
          "Number of communities: 4, <br> Stability: 0.51,\n        <br> Normalised Variation Information: 0.0, <br> Index: 12",
          "Number of communities: 4, <br> Stability: 0.51,\n        <br> Normalised Variation Information: 0.0, <br> Index: 13",
          "Number of communities: 4, <br> Stability: 0.51,\n        <br> Normalised Variation Information: 0.0, <br> Index: 14",
          "Number of communities: 4, <br> Stability: 0.51,\n        <br> Normalised Variation Information: 0.0, <br> Index: 15",
          "Number of communities: 4, <br> Stability: 0.51,\n        <br> Normalised Variation Information: 0.0, <br> Index: 16",
          "Number of communities: 4, <br> Stability: 0.51,\n        <br> Normalised Variation Information: 0.0, <br> Index: 17",
          "Number of communities: 4, <br> Stability: 0.51,\n        <br> Normalised Variation Information: 0.0, <br> Index: 18",
          "Number of communities: 3, <br> Stability: 0.054,\n        <br> Normalised Variation Information: 0.0, <br> Index: 19"
         ],
         "type": "scatter",
         "x": [
          -1,
          -0.8947368421052632,
          -0.7894736842105263,
          -0.6842105263157895,
          -0.5789473684210527,
          -0.4736842105263159,
          -0.368421052631579,
          -0.26315789473684215,
          -0.15789473684210528,
          -0.05263157894736847,
          0.052631578947368335,
          0.15789473684210534,
          0.26315789473684204,
          0.36842105263157876,
          0.4736842105263157,
          0.5789473684210527,
          0.6842105263157894,
          0.7894736842105261,
          0.894736842105263,
          1
         ],
         "y": [
          0.8968907096791378,
          0.8773527975627226,
          0.8544288430975148,
          0.8279393662293323,
          0.7978356184111047,
          0.76175686507777,
          0.7206084837736689,
          0.7206084837736689,
          0.6320009332711242,
          0.5931856355185734,
          0.5931856355185734,
          0.5096453531512692,
          0.5096453531512692,
          0.5096453531512692,
          0.5096453531512692,
          0.5096453531512692,
          0.5096453531512692,
          0.5096453531512692,
          0.5096453531512692,
          0.05438597754728868
         ]
        },
        {
         "hovertemplate": "<b>scale</b>: %{x:.2f}, <br>%{text}<extra></extra>",
         "marker": {
          "color": "red"
         },
         "mode": "lines+markers",
         "name": "Number of communities",
         "text": [
          "Number of communities: 46, <br> Stability: 0.897,\n        <br> Normalised Variation Information: 0.057, <br> Index: 0",
          "Number of communities: 38, <br> Stability: 0.877,\n        <br> Normalised Variation Information: 0.101, <br> Index: 1",
          "Number of communities: 33, <br> Stability: 0.854,\n        <br> Normalised Variation Information: 0.109, <br> Index: 2",
          "Number of communities: 25, <br> Stability: 0.828,\n        <br> Normalised Variation Information: 0.147, <br> Index: 3",
          "Number of communities: 22, <br> Stability: 0.798,\n        <br> Normalised Variation Information: 0.152, <br> Index: 4",
          "Number of communities: 18, <br> Stability: 0.762,\n        <br> Normalised Variation Information: 0.154, <br> Index: 5",
          "Number of communities: 14, <br> Stability: 0.721,\n        <br> Normalised Variation Information: 0.237, <br> Index: 6",
          "Number of communities: 14, <br> Stability: 0.721,\n        <br> Normalised Variation Information: 0.206, <br> Index: 7",
          "Number of communities: 6, <br> Stability: 0.632,\n        <br> Normalised Variation Information: 0.101, <br> Index: 8",
          "Number of communities: 5, <br> Stability: 0.593,\n        <br> Normalised Variation Information: 0.054, <br> Index: 9",
          "Number of communities: 5, <br> Stability: 0.593,\n        <br> Normalised Variation Information: 0.013, <br> Index: 10",
          "Number of communities: 4, <br> Stability: 0.51,\n        <br> Normalised Variation Information: 0.0, <br> Index: 11",
          "Number of communities: 4, <br> Stability: 0.51,\n        <br> Normalised Variation Information: 0.0, <br> Index: 12",
          "Number of communities: 4, <br> Stability: 0.51,\n        <br> Normalised Variation Information: 0.0, <br> Index: 13",
          "Number of communities: 4, <br> Stability: 0.51,\n        <br> Normalised Variation Information: 0.0, <br> Index: 14",
          "Number of communities: 4, <br> Stability: 0.51,\n        <br> Normalised Variation Information: 0.0, <br> Index: 15",
          "Number of communities: 4, <br> Stability: 0.51,\n        <br> Normalised Variation Information: 0.0, <br> Index: 16",
          "Number of communities: 4, <br> Stability: 0.51,\n        <br> Normalised Variation Information: 0.0, <br> Index: 17",
          "Number of communities: 4, <br> Stability: 0.51,\n        <br> Normalised Variation Information: 0.0, <br> Index: 18",
          "Number of communities: 3, <br> Stability: 0.054,\n        <br> Normalised Variation Information: 0.0, <br> Index: 19"
         ],
         "type": "scatter",
         "x": [
          -1,
          -0.8947368421052632,
          -0.7894736842105263,
          -0.6842105263157895,
          -0.5789473684210527,
          -0.4736842105263159,
          -0.368421052631579,
          -0.26315789473684215,
          -0.15789473684210528,
          -0.05263157894736847,
          0.052631578947368335,
          0.15789473684210534,
          0.26315789473684204,
          0.36842105263157876,
          0.4736842105263157,
          0.5789473684210527,
          0.6842105263157894,
          0.7894736842105261,
          0.894736842105263,
          1
         ],
         "xaxis": "x2",
         "y": [
          46,
          38,
          33,
          25,
          22,
          18,
          14,
          14,
          6,
          5,
          5,
          4,
          4,
          4,
          4,
          4,
          4,
          4,
          4,
          3
         ],
         "yaxis": "y4"
        },
        {
         "hovertemplate": "<b>scale</b>: %{x:.2f}, <br>%{text}<extra></extra>",
         "marker": {
          "color": "green"
         },
         "mode": "lines+markers",
         "name": "NVI",
         "opacity": 1,
         "text": [
          "Number of communities: 46, <br> Stability: 0.897,\n        <br> Normalised Variation Information: 0.057, <br> Index: 0",
          "Number of communities: 38, <br> Stability: 0.877,\n        <br> Normalised Variation Information: 0.101, <br> Index: 1",
          "Number of communities: 33, <br> Stability: 0.854,\n        <br> Normalised Variation Information: 0.109, <br> Index: 2",
          "Number of communities: 25, <br> Stability: 0.828,\n        <br> Normalised Variation Information: 0.147, <br> Index: 3",
          "Number of communities: 22, <br> Stability: 0.798,\n        <br> Normalised Variation Information: 0.152, <br> Index: 4",
          "Number of communities: 18, <br> Stability: 0.762,\n        <br> Normalised Variation Information: 0.154, <br> Index: 5",
          "Number of communities: 14, <br> Stability: 0.721,\n        <br> Normalised Variation Information: 0.237, <br> Index: 6",
          "Number of communities: 14, <br> Stability: 0.721,\n        <br> Normalised Variation Information: 0.206, <br> Index: 7",
          "Number of communities: 6, <br> Stability: 0.632,\n        <br> Normalised Variation Information: 0.101, <br> Index: 8",
          "Number of communities: 5, <br> Stability: 0.593,\n        <br> Normalised Variation Information: 0.054, <br> Index: 9",
          "Number of communities: 5, <br> Stability: 0.593,\n        <br> Normalised Variation Information: 0.013, <br> Index: 10",
          "Number of communities: 4, <br> Stability: 0.51,\n        <br> Normalised Variation Information: 0.0, <br> Index: 11",
          "Number of communities: 4, <br> Stability: 0.51,\n        <br> Normalised Variation Information: 0.0, <br> Index: 12",
          "Number of communities: 4, <br> Stability: 0.51,\n        <br> Normalised Variation Information: 0.0, <br> Index: 13",
          "Number of communities: 4, <br> Stability: 0.51,\n        <br> Normalised Variation Information: 0.0, <br> Index: 14",
          "Number of communities: 4, <br> Stability: 0.51,\n        <br> Normalised Variation Information: 0.0, <br> Index: 15",
          "Number of communities: 4, <br> Stability: 0.51,\n        <br> Normalised Variation Information: 0.0, <br> Index: 16",
          "Number of communities: 4, <br> Stability: 0.51,\n        <br> Normalised Variation Information: 0.0, <br> Index: 17",
          "Number of communities: 4, <br> Stability: 0.51,\n        <br> Normalised Variation Information: 0.0, <br> Index: 18",
          "Number of communities: 3, <br> Stability: 0.054,\n        <br> Normalised Variation Information: 0.0, <br> Index: 19"
         ],
         "type": "scatter",
         "x": [
          -1,
          -0.8947368421052632,
          -0.7894736842105263,
          -0.6842105263157895,
          -0.5789473684210527,
          -0.4736842105263159,
          -0.368421052631579,
          -0.26315789473684215,
          -0.15789473684210528,
          -0.05263157894736847,
          0.052631578947368335,
          0.15789473684210534,
          0.26315789473684204,
          0.36842105263157876,
          0.4736842105263157,
          0.5789473684210527,
          0.6842105263157894,
          0.7894736842105261,
          0.894736842105263,
          1
         ],
         "xaxis": "x",
         "y": [
          0.057326364299770526,
          0.10098208479162725,
          0.1085894453590308,
          0.14661262013084447,
          0.15248742840587418,
          0.15418870682234967,
          0.23713619102521946,
          0.2059712481152184,
          0.10134100570977304,
          0.05411483872016908,
          0.012960863385413295,
          0,
          0,
          0,
          0,
          0,
          0,
          0,
          0,
          0
         ],
         "yaxis": "y3"
        },
        {
         "colorbar": {
          "len": 0.2,
          "title": {
           "text": "VI"
          },
          "y": 0.5,
          "yanchor": "middle"
         },
         "colorscale": [
          [
           0,
           "rgb(102,37,6)"
          ],
          [
           0.125,
           "rgb(153,52,4)"
          ],
          [
           0.25,
           "rgb(204,76,2)"
          ],
          [
           0.375,
           "rgb(236,112,20)"
          ],
          [
           0.5,
           "rgb(254,153,41)"
          ],
          [
           0.625,
           "rgb(254,196,79)"
          ],
          [
           0.75,
           "rgb(254,227,145)"
          ],
          [
           0.875,
           "rgb(255,247,188)"
          ],
          [
           1,
           "rgb(255,255,229)"
          ]
         ],
         "hoverinfo": "skip",
         "showscale": true,
         "type": "heatmap",
         "x": [
          -1,
          -0.8947368421052632,
          -0.7894736842105263,
          -0.6842105263157895,
          -0.5789473684210527,
          -0.4736842105263159,
          -0.368421052631579,
          -0.26315789473684215,
          -0.15789473684210528,
          -0.05263157894736847,
          0.052631578947368335,
          0.15789473684210534,
          0.26315789473684204,
          0.36842105263157876,
          0.4736842105263157,
          0.5789473684210527,
          0.6842105263157894,
          0.7894736842105261,
          0.894736842105263,
          1
         ],
         "xaxis": "x2",
         "y": [
          -1,
          -0.8947368421052632,
          -0.7894736842105263,
          -0.6842105263157895,
          -0.5789473684210527,
          -0.4736842105263159,
          -0.368421052631579,
          -0.26315789473684215,
          -0.15789473684210528,
          -0.05263157894736847,
          0.052631578947368335,
          0.15789473684210534,
          0.26315789473684204,
          0.36842105263157876,
          0.4736842105263157,
          0.5789473684210527,
          0.6842105263157894,
          0.7894736842105261,
          0.894736842105263,
          1
         ],
         "yaxis": "y2",
         "z": [
          [
           0,
           0.09902330593208222,
           0.15075442317301962,
           0.22158843200193687,
           0.2669516099094192,
           0.3127283321819118,
           0.37227981434742974,
           0.37227981434742974,
           0.5614385705729708,
           0.6181206238333915,
           0.6181206238333915,
           0.6313192542979307,
           0.6313192542979307,
           0.6313192542979307,
           0.6313192542979307,
           0.6313192542979307,
           0.6313192542979307,
           0.6313192542979307,
           0.6313192542979307,
           0.7234894407234481
          ],
          [
           0.09902330593208222,
           0,
           0.09133054362260597,
           0.21394386281038758,
           0.25888114714374605,
           0.3140236688995277,
           0.3706825711322438,
           0.3706825711322438,
           0.5472890199769541,
           0.5972104903090453,
           0.5972104903090453,
           0.6111318231308642,
           0.6111318231308642,
           0.6111318231308642,
           0.6111318231308642,
           0.6111318231308642,
           0.6111318231308642,
           0.6111318231308642,
           0.6111318231308642,
           0.7083488673481481
          ],
          [
           0.15075442317301962,
           0.09133054362260597,
           0,
           0.2017786281884533,
           0.2396327416847569,
           0.2934952296907981,
           0.36472098671138964,
           0.36472098671138964,
           0.5269742881374422,
           0.5884586980758153,
           0.5884586980758153,
           0.6028562623786524,
           0.6028562623786524,
           0.6028562623786524,
           0.6028562623786524,
           0.6028562623786524,
           0.6028562623786524,
           0.6028562623786524,
           0.6028562623786524,
           0.7033989807638037
          ],
          [
           0.22158843200193687,
           0.21394386281038758,
           0.2017786281884533,
           0,
           0.13915778429321093,
           0.18355106477973518,
           0.278322831304378,
           0.278322831304378,
           0.49104663084524214,
           0.5500012118606988,
           0.5500012118606988,
           0.5657441918681534,
           0.5657441918681534,
           0.5657441918681534,
           0.5657441918681534,
           0.5657441918681534,
           0.5657441918681534,
           0.5657441918681534,
           0.5657441918681534,
           0.6756823711420386
          ],
          [
           0.2669516099094192,
           0.25888114714374605,
           0.2396327416847569,
           0.13915778429321093,
           0,
           0.12102767310430239,
           0.2530566838081209,
           0.2530566838081209,
           0.4385839250397972,
           0.5178110091155117,
           0.5178110091155117,
           0.5344765708136558,
           0.5344765708136558,
           0.5344765708136558,
           0.5344765708136558,
           0.5344765708136558,
           0.5344765708136558,
           0.5344765708136558,
           0.5344765708136558,
           0.6508574281102419
          ],
          [
           0.3127283321819118,
           0.3140236688995277,
           0.2934952296907981,
           0.18355106477973518,
           0.12102767310430239,
           0,
           0.18973421697327997,
           0.18973421697327997,
           0.4074569073550512,
           0.48174873189905487,
           0.48174873189905487,
           0.4996606889261843,
           0.4996606889261843,
           0.4996606889261843,
           0.4996606889261843,
           0.4996606889261843,
           0.4996606889261843,
           0.4996606889261843,
           0.4996606889261843,
           0.6247455166946383
          ],
          [
           0.37227981434742974,
           0.3706825711322438,
           0.36472098671138964,
           0.278322831304378,
           0.2530566838081209,
           0.18973421697327997,
           0,
           0,
           0.32837576243099226,
           0.4323423916807722,
           0.4323423916807722,
           0.45196194557708125,
           0.45196194557708125,
           0.45196194557708125,
           0.45196194557708125,
           0.45196194557708125,
           0.45196194557708125,
           0.45196194557708125,
           0.45196194557708125,
           0.5889714591828109
          ],
          [
           0.37227981434742974,
           0.3706825711322438,
           0.36472098671138964,
           0.278322831304378,
           0.2530566838081209,
           0.18973421697327997,
           0,
           0,
           0.32837576243099226,
           0.4323423916807722,
           0.4323423916807722,
           0.45196194557708125,
           0.45196194557708125,
           0.45196194557708125,
           0.45196194557708125,
           0.45196194557708125,
           0.45196194557708125,
           0.45196194557708125,
           0.45196194557708125,
           0.5889714591828109
          ],
          [
           0.5614385705729708,
           0.5472890199769541,
           0.5269742881374422,
           0.49104663084524214,
           0.4385839250397972,
           0.4074569073550512,
           0.32837576243099226,
           0.32837576243099226,
           0,
           0.19645924166084927,
           0.19645924166084927,
           0.18401090406358472,
           0.18401090406358472,
           0.18401090406358472,
           0.18401090406358472,
           0.18401090406358472,
           0.18401090406358472,
           0.18401090406358472,
           0.18401090406358472,
           0.3880081780476886
          ],
          [
           0.6181206238333915,
           0.5972104903090453,
           0.5884586980758153,
           0.5500012118606988,
           0.5178110091155117,
           0.48174873189905487,
           0.4323423916807722,
           0.4323423916807722,
           0.19645924166084927,
           0,
           3.0927087083984995e-16,
           0.03456230236110207,
           0.03456230236110207,
           0.03456230236110207,
           0.03456230236110207,
           0.03456230236110207,
           0.03456230236110207,
           0.03456230236110207,
           0.03456230236110207,
           0.27592172677082666
          ],
          [
           0.6181206238333915,
           0.5972104903090453,
           0.5884586980758153,
           0.5500012118606988,
           0.5178110091155117,
           0.48174873189905487,
           0.4323423916807722,
           0.4323423916807722,
           0.19645924166084927,
           3.0927087083984995e-16,
           0,
           0.03456230236110207,
           0.03456230236110207,
           0.03456230236110207,
           0.03456230236110207,
           0.03456230236110207,
           0.03456230236110207,
           0.03456230236110207,
           0.03456230236110207,
           0.27592172677082666
          ],
          [
           0.6313192542979307,
           0.6111318231308642,
           0.6028562623786524,
           0.5657441918681534,
           0.5344765708136558,
           0.4996606889261843,
           0.45196194557708125,
           0.45196194557708125,
           0.18401090406358472,
           0.03456230236110207,
           0.03456230236110207,
           0,
           0,
           0,
           0,
           0,
           0,
           0,
           0,
           0.25000000000000006
          ],
          [
           0.6313192542979307,
           0.6111318231308642,
           0.6028562623786524,
           0.5657441918681534,
           0.5344765708136558,
           0.4996606889261843,
           0.45196194557708125,
           0.45196194557708125,
           0.18401090406358472,
           0.03456230236110207,
           0.03456230236110207,
           0,
           0,
           0,
           0,
           0,
           0,
           0,
           0,
           0.25000000000000006
          ],
          [
           0.6313192542979307,
           0.6111318231308642,
           0.6028562623786524,
           0.5657441918681534,
           0.5344765708136558,
           0.4996606889261843,
           0.45196194557708125,
           0.45196194557708125,
           0.18401090406358472,
           0.03456230236110207,
           0.03456230236110207,
           0,
           0,
           0,
           0,
           0,
           0,
           0,
           0,
           0.25000000000000006
          ],
          [
           0.6313192542979307,
           0.6111318231308642,
           0.6028562623786524,
           0.5657441918681534,
           0.5344765708136558,
           0.4996606889261843,
           0.45196194557708125,
           0.45196194557708125,
           0.18401090406358472,
           0.03456230236110207,
           0.03456230236110207,
           0,
           0,
           0,
           0,
           0,
           0,
           0,
           0,
           0.25000000000000006
          ],
          [
           0.6313192542979307,
           0.6111318231308642,
           0.6028562623786524,
           0.5657441918681534,
           0.5344765708136558,
           0.4996606889261843,
           0.45196194557708125,
           0.45196194557708125,
           0.18401090406358472,
           0.03456230236110207,
           0.03456230236110207,
           0,
           0,
           0,
           0,
           0,
           0,
           0,
           0,
           0.25000000000000006
          ],
          [
           0.6313192542979307,
           0.6111318231308642,
           0.6028562623786524,
           0.5657441918681534,
           0.5344765708136558,
           0.4996606889261843,
           0.45196194557708125,
           0.45196194557708125,
           0.18401090406358472,
           0.03456230236110207,
           0.03456230236110207,
           0,
           0,
           0,
           0,
           0,
           0,
           0,
           0,
           0.25000000000000006
          ],
          [
           0.6313192542979307,
           0.6111318231308642,
           0.6028562623786524,
           0.5657441918681534,
           0.5344765708136558,
           0.4996606889261843,
           0.45196194557708125,
           0.45196194557708125,
           0.18401090406358472,
           0.03456230236110207,
           0.03456230236110207,
           0,
           0,
           0,
           0,
           0,
           0,
           0,
           0,
           0.25000000000000006
          ],
          [
           0.6313192542979307,
           0.6111318231308642,
           0.6028562623786524,
           0.5657441918681534,
           0.5344765708136558,
           0.4996606889261843,
           0.45196194557708125,
           0.45196194557708125,
           0.18401090406358472,
           0.03456230236110207,
           0.03456230236110207,
           0,
           0,
           0,
           0,
           0,
           0,
           0,
           0,
           0.25000000000000006
          ],
          [
           0.7234894407234481,
           0.7083488673481481,
           0.7033989807638037,
           0.6756823711420386,
           0.6508574281102419,
           0.6247455166946383,
           0.5889714591828109,
           0.5889714591828109,
           0.3880081780476886,
           0.27592172677082666,
           0.27592172677082666,
           0.25000000000000006,
           0.25000000000000006,
           0.25000000000000006,
           0.25000000000000006,
           0.25000000000000006,
           0.25000000000000006,
           0.25000000000000006,
           0.25000000000000006,
           0
          ]
         ]
        }
       ],
       "layout": {
        "template": {
         "data": {
          "bar": [
           {
            "error_x": {
             "color": "#2a3f5f"
            },
            "error_y": {
             "color": "#2a3f5f"
            },
            "marker": {
             "line": {
              "color": "#E5ECF6",
              "width": 0.5
             },
             "pattern": {
              "fillmode": "overlay",
              "size": 10,
              "solidity": 0.2
             }
            },
            "type": "bar"
           }
          ],
          "barpolar": [
           {
            "marker": {
             "line": {
              "color": "#E5ECF6",
              "width": 0.5
             },
             "pattern": {
              "fillmode": "overlay",
              "size": 10,
              "solidity": 0.2
             }
            },
            "type": "barpolar"
           }
          ],
          "carpet": [
           {
            "aaxis": {
             "endlinecolor": "#2a3f5f",
             "gridcolor": "white",
             "linecolor": "white",
             "minorgridcolor": "white",
             "startlinecolor": "#2a3f5f"
            },
            "baxis": {
             "endlinecolor": "#2a3f5f",
             "gridcolor": "white",
             "linecolor": "white",
             "minorgridcolor": "white",
             "startlinecolor": "#2a3f5f"
            },
            "type": "carpet"
           }
          ],
          "choropleth": [
           {
            "colorbar": {
             "outlinewidth": 0,
             "ticks": ""
            },
            "type": "choropleth"
           }
          ],
          "contour": [
           {
            "colorbar": {
             "outlinewidth": 0,
             "ticks": ""
            },
            "colorscale": [
             [
              0,
              "#0d0887"
             ],
             [
              0.1111111111111111,
              "#46039f"
             ],
             [
              0.2222222222222222,
              "#7201a8"
             ],
             [
              0.3333333333333333,
              "#9c179e"
             ],
             [
              0.4444444444444444,
              "#bd3786"
             ],
             [
              0.5555555555555556,
              "#d8576b"
             ],
             [
              0.6666666666666666,
              "#ed7953"
             ],
             [
              0.7777777777777778,
              "#fb9f3a"
             ],
             [
              0.8888888888888888,
              "#fdca26"
             ],
             [
              1,
              "#f0f921"
             ]
            ],
            "type": "contour"
           }
          ],
          "contourcarpet": [
           {
            "colorbar": {
             "outlinewidth": 0,
             "ticks": ""
            },
            "type": "contourcarpet"
           }
          ],
          "heatmap": [
           {
            "colorbar": {
             "outlinewidth": 0,
             "ticks": ""
            },
            "colorscale": [
             [
              0,
              "#0d0887"
             ],
             [
              0.1111111111111111,
              "#46039f"
             ],
             [
              0.2222222222222222,
              "#7201a8"
             ],
             [
              0.3333333333333333,
              "#9c179e"
             ],
             [
              0.4444444444444444,
              "#bd3786"
             ],
             [
              0.5555555555555556,
              "#d8576b"
             ],
             [
              0.6666666666666666,
              "#ed7953"
             ],
             [
              0.7777777777777778,
              "#fb9f3a"
             ],
             [
              0.8888888888888888,
              "#fdca26"
             ],
             [
              1,
              "#f0f921"
             ]
            ],
            "type": "heatmap"
           }
          ],
          "heatmapgl": [
           {
            "colorbar": {
             "outlinewidth": 0,
             "ticks": ""
            },
            "colorscale": [
             [
              0,
              "#0d0887"
             ],
             [
              0.1111111111111111,
              "#46039f"
             ],
             [
              0.2222222222222222,
              "#7201a8"
             ],
             [
              0.3333333333333333,
              "#9c179e"
             ],
             [
              0.4444444444444444,
              "#bd3786"
             ],
             [
              0.5555555555555556,
              "#d8576b"
             ],
             [
              0.6666666666666666,
              "#ed7953"
             ],
             [
              0.7777777777777778,
              "#fb9f3a"
             ],
             [
              0.8888888888888888,
              "#fdca26"
             ],
             [
              1,
              "#f0f921"
             ]
            ],
            "type": "heatmapgl"
           }
          ],
          "histogram": [
           {
            "marker": {
             "pattern": {
              "fillmode": "overlay",
              "size": 10,
              "solidity": 0.2
             }
            },
            "type": "histogram"
           }
          ],
          "histogram2d": [
           {
            "colorbar": {
             "outlinewidth": 0,
             "ticks": ""
            },
            "colorscale": [
             [
              0,
              "#0d0887"
             ],
             [
              0.1111111111111111,
              "#46039f"
             ],
             [
              0.2222222222222222,
              "#7201a8"
             ],
             [
              0.3333333333333333,
              "#9c179e"
             ],
             [
              0.4444444444444444,
              "#bd3786"
             ],
             [
              0.5555555555555556,
              "#d8576b"
             ],
             [
              0.6666666666666666,
              "#ed7953"
             ],
             [
              0.7777777777777778,
              "#fb9f3a"
             ],
             [
              0.8888888888888888,
              "#fdca26"
             ],
             [
              1,
              "#f0f921"
             ]
            ],
            "type": "histogram2d"
           }
          ],
          "histogram2dcontour": [
           {
            "colorbar": {
             "outlinewidth": 0,
             "ticks": ""
            },
            "colorscale": [
             [
              0,
              "#0d0887"
             ],
             [
              0.1111111111111111,
              "#46039f"
             ],
             [
              0.2222222222222222,
              "#7201a8"
             ],
             [
              0.3333333333333333,
              "#9c179e"
             ],
             [
              0.4444444444444444,
              "#bd3786"
             ],
             [
              0.5555555555555556,
              "#d8576b"
             ],
             [
              0.6666666666666666,
              "#ed7953"
             ],
             [
              0.7777777777777778,
              "#fb9f3a"
             ],
             [
              0.8888888888888888,
              "#fdca26"
             ],
             [
              1,
              "#f0f921"
             ]
            ],
            "type": "histogram2dcontour"
           }
          ],
          "mesh3d": [
           {
            "colorbar": {
             "outlinewidth": 0,
             "ticks": ""
            },
            "type": "mesh3d"
           }
          ],
          "parcoords": [
           {
            "line": {
             "colorbar": {
              "outlinewidth": 0,
              "ticks": ""
             }
            },
            "type": "parcoords"
           }
          ],
          "pie": [
           {
            "automargin": true,
            "type": "pie"
           }
          ],
          "scatter": [
           {
            "fillpattern": {
             "fillmode": "overlay",
             "size": 10,
             "solidity": 0.2
            },
            "type": "scatter"
           }
          ],
          "scatter3d": [
           {
            "line": {
             "colorbar": {
              "outlinewidth": 0,
              "ticks": ""
             }
            },
            "marker": {
             "colorbar": {
              "outlinewidth": 0,
              "ticks": ""
             }
            },
            "type": "scatter3d"
           }
          ],
          "scattercarpet": [
           {
            "marker": {
             "colorbar": {
              "outlinewidth": 0,
              "ticks": ""
             }
            },
            "type": "scattercarpet"
           }
          ],
          "scattergeo": [
           {
            "marker": {
             "colorbar": {
              "outlinewidth": 0,
              "ticks": ""
             }
            },
            "type": "scattergeo"
           }
          ],
          "scattergl": [
           {
            "marker": {
             "colorbar": {
              "outlinewidth": 0,
              "ticks": ""
             }
            },
            "type": "scattergl"
           }
          ],
          "scattermapbox": [
           {
            "marker": {
             "colorbar": {
              "outlinewidth": 0,
              "ticks": ""
             }
            },
            "type": "scattermapbox"
           }
          ],
          "scatterpolar": [
           {
            "marker": {
             "colorbar": {
              "outlinewidth": 0,
              "ticks": ""
             }
            },
            "type": "scatterpolar"
           }
          ],
          "scatterpolargl": [
           {
            "marker": {
             "colorbar": {
              "outlinewidth": 0,
              "ticks": ""
             }
            },
            "type": "scatterpolargl"
           }
          ],
          "scatterternary": [
           {
            "marker": {
             "colorbar": {
              "outlinewidth": 0,
              "ticks": ""
             }
            },
            "type": "scatterternary"
           }
          ],
          "surface": [
           {
            "colorbar": {
             "outlinewidth": 0,
             "ticks": ""
            },
            "colorscale": [
             [
              0,
              "#0d0887"
             ],
             [
              0.1111111111111111,
              "#46039f"
             ],
             [
              0.2222222222222222,
              "#7201a8"
             ],
             [
              0.3333333333333333,
              "#9c179e"
             ],
             [
              0.4444444444444444,
              "#bd3786"
             ],
             [
              0.5555555555555556,
              "#d8576b"
             ],
             [
              0.6666666666666666,
              "#ed7953"
             ],
             [
              0.7777777777777778,
              "#fb9f3a"
             ],
             [
              0.8888888888888888,
              "#fdca26"
             ],
             [
              1,
              "#f0f921"
             ]
            ],
            "type": "surface"
           }
          ],
          "table": [
           {
            "cells": {
             "fill": {
              "color": "#EBF0F8"
             },
             "line": {
              "color": "white"
             }
            },
            "header": {
             "fill": {
              "color": "#C8D4E3"
             },
             "line": {
              "color": "white"
             }
            },
            "type": "table"
           }
          ]
         },
         "layout": {
          "annotationdefaults": {
           "arrowcolor": "#2a3f5f",
           "arrowhead": 0,
           "arrowwidth": 1
          },
          "autotypenumbers": "strict",
          "coloraxis": {
           "colorbar": {
            "outlinewidth": 0,
            "ticks": ""
           }
          },
          "colorscale": {
           "diverging": [
            [
             0,
             "#8e0152"
            ],
            [
             0.1,
             "#c51b7d"
            ],
            [
             0.2,
             "#de77ae"
            ],
            [
             0.3,
             "#f1b6da"
            ],
            [
             0.4,
             "#fde0ef"
            ],
            [
             0.5,
             "#f7f7f7"
            ],
            [
             0.6,
             "#e6f5d0"
            ],
            [
             0.7,
             "#b8e186"
            ],
            [
             0.8,
             "#7fbc41"
            ],
            [
             0.9,
             "#4d9221"
            ],
            [
             1,
             "#276419"
            ]
           ],
           "sequential": [
            [
             0,
             "#0d0887"
            ],
            [
             0.1111111111111111,
             "#46039f"
            ],
            [
             0.2222222222222222,
             "#7201a8"
            ],
            [
             0.3333333333333333,
             "#9c179e"
            ],
            [
             0.4444444444444444,
             "#bd3786"
            ],
            [
             0.5555555555555556,
             "#d8576b"
            ],
            [
             0.6666666666666666,
             "#ed7953"
            ],
            [
             0.7777777777777778,
             "#fb9f3a"
            ],
            [
             0.8888888888888888,
             "#fdca26"
            ],
            [
             1,
             "#f0f921"
            ]
           ],
           "sequentialminus": [
            [
             0,
             "#0d0887"
            ],
            [
             0.1111111111111111,
             "#46039f"
            ],
            [
             0.2222222222222222,
             "#7201a8"
            ],
            [
             0.3333333333333333,
             "#9c179e"
            ],
            [
             0.4444444444444444,
             "#bd3786"
            ],
            [
             0.5555555555555556,
             "#d8576b"
            ],
            [
             0.6666666666666666,
             "#ed7953"
            ],
            [
             0.7777777777777778,
             "#fb9f3a"
            ],
            [
             0.8888888888888888,
             "#fdca26"
            ],
            [
             1,
             "#f0f921"
            ]
           ]
          },
          "colorway": [
           "#636efa",
           "#EF553B",
           "#00cc96",
           "#ab63fa",
           "#FFA15A",
           "#19d3f3",
           "#FF6692",
           "#B6E880",
           "#FF97FF",
           "#FECB52"
          ],
          "font": {
           "color": "#2a3f5f"
          },
          "geo": {
           "bgcolor": "white",
           "lakecolor": "white",
           "landcolor": "#E5ECF6",
           "showlakes": true,
           "showland": true,
           "subunitcolor": "white"
          },
          "hoverlabel": {
           "align": "left"
          },
          "hovermode": "closest",
          "mapbox": {
           "style": "light"
          },
          "paper_bgcolor": "white",
          "plot_bgcolor": "#E5ECF6",
          "polar": {
           "angularaxis": {
            "gridcolor": "white",
            "linecolor": "white",
            "ticks": ""
           },
           "bgcolor": "#E5ECF6",
           "radialaxis": {
            "gridcolor": "white",
            "linecolor": "white",
            "ticks": ""
           }
          },
          "scene": {
           "xaxis": {
            "backgroundcolor": "#E5ECF6",
            "gridcolor": "white",
            "gridwidth": 2,
            "linecolor": "white",
            "showbackground": true,
            "ticks": "",
            "zerolinecolor": "white"
           },
           "yaxis": {
            "backgroundcolor": "#E5ECF6",
            "gridcolor": "white",
            "gridwidth": 2,
            "linecolor": "white",
            "showbackground": true,
            "ticks": "",
            "zerolinecolor": "white"
           },
           "zaxis": {
            "backgroundcolor": "#E5ECF6",
            "gridcolor": "white",
            "gridwidth": 2,
            "linecolor": "white",
            "showbackground": true,
            "ticks": "",
            "zerolinecolor": "white"
           }
          },
          "shapedefaults": {
           "line": {
            "color": "#2a3f5f"
           }
          },
          "ternary": {
           "aaxis": {
            "gridcolor": "white",
            "linecolor": "white",
            "ticks": ""
           },
           "baxis": {
            "gridcolor": "white",
            "linecolor": "white",
            "ticks": ""
           },
           "bgcolor": "#E5ECF6",
           "caxis": {
            "gridcolor": "white",
            "linecolor": "white",
            "ticks": ""
           }
          },
          "title": {
           "x": 0.05
          },
          "xaxis": {
           "automargin": true,
           "gridcolor": "white",
           "linecolor": "white",
           "ticks": "",
           "title": {
            "standoff": 15
           },
           "zerolinecolor": "white",
           "zerolinewidth": 2
          },
          "yaxis": {
           "automargin": true,
           "gridcolor": "white",
           "linecolor": "white",
           "ticks": "",
           "title": {
            "standoff": 15
           },
           "zerolinecolor": "white",
           "zerolinewidth": 2
          }
         }
        },
        "xaxis": {
         "range": [
          -1,
          1
         ],
         "title": {
          "text": "log10(scale)"
         }
        },
        "xaxis2": {
         "range": [
          -1,
          1
         ]
        },
        "yaxis": {
         "domain": [
          0,
          0.28
         ],
         "tickfont": {
          "color": "blue"
         },
         "title": {
          "font": {
           "color": "blue"
          },
          "text": "Stability"
         }
        },
        "yaxis2": {
         "domain": [
          0.32,
          1
         ],
         "range": [
          -1,
          1
         ],
         "side": "right",
         "tickfont": {
          "color": "black"
         },
         "title": {
          "font": {
           "color": "black"
          },
          "text": "log10(scale)"
         }
        },
        "yaxis3": {
         "overlaying": "y",
         "showticklabels": true,
         "side": "right",
         "tickfont": {
          "color": "green"
         },
         "title": {
          "font": {
           "color": "green"
          },
          "text": "Variation of information"
         }
        },
        "yaxis4": {
         "overlaying": "y2",
         "tickfont": {
          "color": "red"
         },
         "title": {
          "font": {
           "color": "red"
          },
          "text": "Number of communities"
         }
        }
       }
      }
     },
     "metadata": {},
     "output_type": "display_data"
    },
    {
     "data": {
      "text/plain": [
       "(Figure({\n",
       "     'data': [{'hovertemplate': '<b>scale</b>: %{x:.2f}, <br>%{text}<extra></extra>',\n",
       "               'marker': {'color': 'blue'},\n",
       "               'mode': 'lines+markers',\n",
       "               'name': 'Stability',\n",
       "               'text': [Number of communities: 46, <br> Stability: 0.897,\n",
       "                        <br> Normalised Variation Information: 0.057, <br> Index: 0,\n",
       "                        Number of communities: 38, <br> Stability: 0.877,\n",
       "                        <br> Normalised Variation Information: 0.101, <br> Index: 1,\n",
       "                        Number of communities: 33, <br> Stability: 0.854,\n",
       "                        <br> Normalised Variation Information: 0.109, <br> Index: 2,\n",
       "                        Number of communities: 25, <br> Stability: 0.828,\n",
       "                        <br> Normalised Variation Information: 0.147, <br> Index: 3,\n",
       "                        Number of communities: 22, <br> Stability: 0.798,\n",
       "                        <br> Normalised Variation Information: 0.152, <br> Index: 4,\n",
       "                        Number of communities: 18, <br> Stability: 0.762,\n",
       "                        <br> Normalised Variation Information: 0.154, <br> Index: 5,\n",
       "                        Number of communities: 14, <br> Stability: 0.721,\n",
       "                        <br> Normalised Variation Information: 0.237, <br> Index: 6,\n",
       "                        Number of communities: 14, <br> Stability: 0.721,\n",
       "                        <br> Normalised Variation Information: 0.206, <br> Index: 7,\n",
       "                        Number of communities: 6, <br> Stability: 0.632,\n",
       "                        <br> Normalised Variation Information: 0.101, <br> Index: 8,\n",
       "                        Number of communities: 5, <br> Stability: 0.593,\n",
       "                        <br> Normalised Variation Information: 0.054, <br> Index: 9,\n",
       "                        Number of communities: 5, <br> Stability: 0.593,\n",
       "                        <br> Normalised Variation Information: 0.013, <br> Index:\n",
       "                        10, Number of communities: 4, <br> Stability: 0.51,\n",
       "                        <br> Normalised Variation Information: 0.0, <br> Index: 11,\n",
       "                        Number of communities: 4, <br> Stability: 0.51,         <br>\n",
       "                        Normalised Variation Information: 0.0, <br> Index: 12,\n",
       "                        Number of communities: 4, <br> Stability: 0.51,         <br>\n",
       "                        Normalised Variation Information: 0.0, <br> Index: 13,\n",
       "                        Number of communities: 4, <br> Stability: 0.51,         <br>\n",
       "                        Normalised Variation Information: 0.0, <br> Index: 14,\n",
       "                        Number of communities: 4, <br> Stability: 0.51,         <br>\n",
       "                        Normalised Variation Information: 0.0, <br> Index: 15,\n",
       "                        Number of communities: 4, <br> Stability: 0.51,         <br>\n",
       "                        Normalised Variation Information: 0.0, <br> Index: 16,\n",
       "                        Number of communities: 4, <br> Stability: 0.51,         <br>\n",
       "                        Normalised Variation Information: 0.0, <br> Index: 17,\n",
       "                        Number of communities: 4, <br> Stability: 0.51,         <br>\n",
       "                        Normalised Variation Information: 0.0, <br> Index: 18,\n",
       "                        Number of communities: 3, <br> Stability: 0.054,\n",
       "                        <br> Normalised Variation Information: 0.0, <br> Index: 19],\n",
       "               'type': 'scatter',\n",
       "               'x': array([-1.        , -0.89473684, -0.78947368, -0.68421053, -0.57894737,\n",
       "                           -0.47368421, -0.36842105, -0.26315789, -0.15789474, -0.05263158,\n",
       "                            0.05263158,  0.15789474,  0.26315789,  0.36842105,  0.47368421,\n",
       "                            0.57894737,  0.68421053,  0.78947368,  0.89473684,  1.        ]),\n",
       "               'y': [0.8968907096791378, 0.8773527975627226, 0.8544288430975148,\n",
       "                     0.8279393662293323, 0.7978356184111047, 0.76175686507777,\n",
       "                     0.7206084837736689, 0.7206084837736689, 0.6320009332711242,\n",
       "                     0.5931856355185734, 0.5931856355185734, 0.5096453531512692,\n",
       "                     0.5096453531512692, 0.5096453531512692, 0.5096453531512692,\n",
       "                     0.5096453531512692, 0.5096453531512692, 0.5096453531512692,\n",
       "                     0.5096453531512692, 0.05438597754728868]},\n",
       "              {'hovertemplate': '<b>scale</b>: %{x:.2f}, <br>%{text}<extra></extra>',\n",
       "               'marker': {'color': 'red'},\n",
       "               'mode': 'lines+markers',\n",
       "               'name': 'Number of communities',\n",
       "               'text': [Number of communities: 46, <br> Stability: 0.897,\n",
       "                        <br> Normalised Variation Information: 0.057, <br> Index: 0,\n",
       "                        Number of communities: 38, <br> Stability: 0.877,\n",
       "                        <br> Normalised Variation Information: 0.101, <br> Index: 1,\n",
       "                        Number of communities: 33, <br> Stability: 0.854,\n",
       "                        <br> Normalised Variation Information: 0.109, <br> Index: 2,\n",
       "                        Number of communities: 25, <br> Stability: 0.828,\n",
       "                        <br> Normalised Variation Information: 0.147, <br> Index: 3,\n",
       "                        Number of communities: 22, <br> Stability: 0.798,\n",
       "                        <br> Normalised Variation Information: 0.152, <br> Index: 4,\n",
       "                        Number of communities: 18, <br> Stability: 0.762,\n",
       "                        <br> Normalised Variation Information: 0.154, <br> Index: 5,\n",
       "                        Number of communities: 14, <br> Stability: 0.721,\n",
       "                        <br> Normalised Variation Information: 0.237, <br> Index: 6,\n",
       "                        Number of communities: 14, <br> Stability: 0.721,\n",
       "                        <br> Normalised Variation Information: 0.206, <br> Index: 7,\n",
       "                        Number of communities: 6, <br> Stability: 0.632,\n",
       "                        <br> Normalised Variation Information: 0.101, <br> Index: 8,\n",
       "                        Number of communities: 5, <br> Stability: 0.593,\n",
       "                        <br> Normalised Variation Information: 0.054, <br> Index: 9,\n",
       "                        Number of communities: 5, <br> Stability: 0.593,\n",
       "                        <br> Normalised Variation Information: 0.013, <br> Index:\n",
       "                        10, Number of communities: 4, <br> Stability: 0.51,\n",
       "                        <br> Normalised Variation Information: 0.0, <br> Index: 11,\n",
       "                        Number of communities: 4, <br> Stability: 0.51,         <br>\n",
       "                        Normalised Variation Information: 0.0, <br> Index: 12,\n",
       "                        Number of communities: 4, <br> Stability: 0.51,         <br>\n",
       "                        Normalised Variation Information: 0.0, <br> Index: 13,\n",
       "                        Number of communities: 4, <br> Stability: 0.51,         <br>\n",
       "                        Normalised Variation Information: 0.0, <br> Index: 14,\n",
       "                        Number of communities: 4, <br> Stability: 0.51,         <br>\n",
       "                        Normalised Variation Information: 0.0, <br> Index: 15,\n",
       "                        Number of communities: 4, <br> Stability: 0.51,         <br>\n",
       "                        Normalised Variation Information: 0.0, <br> Index: 16,\n",
       "                        Number of communities: 4, <br> Stability: 0.51,         <br>\n",
       "                        Normalised Variation Information: 0.0, <br> Index: 17,\n",
       "                        Number of communities: 4, <br> Stability: 0.51,         <br>\n",
       "                        Normalised Variation Information: 0.0, <br> Index: 18,\n",
       "                        Number of communities: 3, <br> Stability: 0.054,\n",
       "                        <br> Normalised Variation Information: 0.0, <br> Index: 19],\n",
       "               'type': 'scatter',\n",
       "               'x': array([-1.        , -0.89473684, -0.78947368, -0.68421053, -0.57894737,\n",
       "                           -0.47368421, -0.36842105, -0.26315789, -0.15789474, -0.05263158,\n",
       "                            0.05263158,  0.15789474,  0.26315789,  0.36842105,  0.47368421,\n",
       "                            0.57894737,  0.68421053,  0.78947368,  0.89473684,  1.        ]),\n",
       "               'xaxis': 'x2',\n",
       "               'y': [46, 38, 33, 25, 22, 18, 14, 14, 6, 5, 5, 4, 4, 4, 4, 4, 4, 4,\n",
       "                     4, 3],\n",
       "               'yaxis': 'y4'},\n",
       "              {'hovertemplate': '<b>scale</b>: %{x:.2f}, <br>%{text}<extra></extra>',\n",
       "               'marker': {'color': 'green'},\n",
       "               'mode': 'lines+markers',\n",
       "               'name': 'NVI',\n",
       "               'opacity': 1.0,\n",
       "               'text': [Number of communities: 46, <br> Stability: 0.897,\n",
       "                        <br> Normalised Variation Information: 0.057, <br> Index: 0,\n",
       "                        Number of communities: 38, <br> Stability: 0.877,\n",
       "                        <br> Normalised Variation Information: 0.101, <br> Index: 1,\n",
       "                        Number of communities: 33, <br> Stability: 0.854,\n",
       "                        <br> Normalised Variation Information: 0.109, <br> Index: 2,\n",
       "                        Number of communities: 25, <br> Stability: 0.828,\n",
       "                        <br> Normalised Variation Information: 0.147, <br> Index: 3,\n",
       "                        Number of communities: 22, <br> Stability: 0.798,\n",
       "                        <br> Normalised Variation Information: 0.152, <br> Index: 4,\n",
       "                        Number of communities: 18, <br> Stability: 0.762,\n",
       "                        <br> Normalised Variation Information: 0.154, <br> Index: 5,\n",
       "                        Number of communities: 14, <br> Stability: 0.721,\n",
       "                        <br> Normalised Variation Information: 0.237, <br> Index: 6,\n",
       "                        Number of communities: 14, <br> Stability: 0.721,\n",
       "                        <br> Normalised Variation Information: 0.206, <br> Index: 7,\n",
       "                        Number of communities: 6, <br> Stability: 0.632,\n",
       "                        <br> Normalised Variation Information: 0.101, <br> Index: 8,\n",
       "                        Number of communities: 5, <br> Stability: 0.593,\n",
       "                        <br> Normalised Variation Information: 0.054, <br> Index: 9,\n",
       "                        Number of communities: 5, <br> Stability: 0.593,\n",
       "                        <br> Normalised Variation Information: 0.013, <br> Index:\n",
       "                        10, Number of communities: 4, <br> Stability: 0.51,\n",
       "                        <br> Normalised Variation Information: 0.0, <br> Index: 11,\n",
       "                        Number of communities: 4, <br> Stability: 0.51,         <br>\n",
       "                        Normalised Variation Information: 0.0, <br> Index: 12,\n",
       "                        Number of communities: 4, <br> Stability: 0.51,         <br>\n",
       "                        Normalised Variation Information: 0.0, <br> Index: 13,\n",
       "                        Number of communities: 4, <br> Stability: 0.51,         <br>\n",
       "                        Normalised Variation Information: 0.0, <br> Index: 14,\n",
       "                        Number of communities: 4, <br> Stability: 0.51,         <br>\n",
       "                        Normalised Variation Information: 0.0, <br> Index: 15,\n",
       "                        Number of communities: 4, <br> Stability: 0.51,         <br>\n",
       "                        Normalised Variation Information: 0.0, <br> Index: 16,\n",
       "                        Number of communities: 4, <br> Stability: 0.51,         <br>\n",
       "                        Normalised Variation Information: 0.0, <br> Index: 17,\n",
       "                        Number of communities: 4, <br> Stability: 0.51,         <br>\n",
       "                        Normalised Variation Information: 0.0, <br> Index: 18,\n",
       "                        Number of communities: 3, <br> Stability: 0.054,\n",
       "                        <br> Normalised Variation Information: 0.0, <br> Index: 19],\n",
       "               'type': 'scatter',\n",
       "               'x': array([-1.        , -0.89473684, -0.78947368, -0.68421053, -0.57894737,\n",
       "                           -0.47368421, -0.36842105, -0.26315789, -0.15789474, -0.05263158,\n",
       "                            0.05263158,  0.15789474,  0.26315789,  0.36842105,  0.47368421,\n",
       "                            0.57894737,  0.68421053,  0.78947368,  0.89473684,  1.        ]),\n",
       "               'xaxis': 'x',\n",
       "               'y': [0.057326364299770526, 0.10098208479162725, 0.1085894453590308,\n",
       "                     0.14661262013084447, 0.15248742840587418, 0.15418870682234967,\n",
       "                     0.23713619102521946, 0.2059712481152184, 0.10134100570977304,\n",
       "                     0.05411483872016908, 0.012960863385413295, 0.0, 0.0, 0.0, 0.0,\n",
       "                     0.0, 0.0, 0.0, 0.0, 0.0],\n",
       "               'yaxis': 'y3'},\n",
       "              {'colorbar': {'len': 0.2, 'title': {'text': 'VI'}, 'y': 0.5, 'yanchor': 'middle'},\n",
       "               'colorscale': [[0.0, 'rgb(102,37,6)'], [0.125, 'rgb(153,52,4)'],\n",
       "                              [0.25, 'rgb(204,76,2)'], [0.375, 'rgb(236,112,20)'],\n",
       "                              [0.5, 'rgb(254,153,41)'], [0.625, 'rgb(254,196,79)'],\n",
       "                              [0.75, 'rgb(254,227,145)'], [0.875,\n",
       "                              'rgb(255,247,188)'], [1.0, 'rgb(255,255,229)']],\n",
       "               'hoverinfo': 'skip',\n",
       "               'showscale': True,\n",
       "               'type': 'heatmap',\n",
       "               'x': array([-1.        , -0.89473684, -0.78947368, -0.68421053, -0.57894737,\n",
       "                           -0.47368421, -0.36842105, -0.26315789, -0.15789474, -0.05263158,\n",
       "                            0.05263158,  0.15789474,  0.26315789,  0.36842105,  0.47368421,\n",
       "                            0.57894737,  0.68421053,  0.78947368,  0.89473684,  1.        ]),\n",
       "               'xaxis': 'x2',\n",
       "               'y': array([-1.        , -0.89473684, -0.78947368, -0.68421053, -0.57894737,\n",
       "                           -0.47368421, -0.36842105, -0.26315789, -0.15789474, -0.05263158,\n",
       "                            0.05263158,  0.15789474,  0.26315789,  0.36842105,  0.47368421,\n",
       "                            0.57894737,  0.68421053,  0.78947368,  0.89473684,  1.        ]),\n",
       "               'yaxis': 'y2',\n",
       "               'z': array([[0.        , 0.09902331, 0.15075442, ..., 0.63131925, 0.63131925,\n",
       "                            0.72348944],\n",
       "                           [0.09902331, 0.        , 0.09133054, ..., 0.61113182, 0.61113182,\n",
       "                            0.70834887],\n",
       "                           [0.15075442, 0.09133054, 0.        , ..., 0.60285626, 0.60285626,\n",
       "                            0.70339898],\n",
       "                           ...,\n",
       "                           [0.63131925, 0.61113182, 0.60285626, ..., 0.        , 0.        ,\n",
       "                            0.25      ],\n",
       "                           [0.63131925, 0.61113182, 0.60285626, ..., 0.        , 0.        ,\n",
       "                            0.25      ],\n",
       "                           [0.72348944, 0.70834887, 0.70339898, ..., 0.25      , 0.25      ,\n",
       "                            0.        ]])}],\n",
       "     'layout': {'template': '...',\n",
       "                'xaxis': {'range': [-1.0, 1.0], 'title': {'text': 'log10(scale)'}},\n",
       "                'xaxis2': {'range': [-1.0, 1.0]},\n",
       "                'yaxis': {'domain': [0.0, 0.28],\n",
       "                          'tickfont': {'color': 'blue'},\n",
       "                          'title': {'font': {'color': 'blue'}, 'text': 'Stability'}},\n",
       "                'yaxis2': {'domain': [0.32, 1],\n",
       "                           'range': [-1.0, 1.0],\n",
       "                           'side': 'right',\n",
       "                           'tickfont': {'color': 'black'},\n",
       "                           'title': {'font': {'color': 'black'}, 'text': 'log10(scale)'}},\n",
       "                'yaxis3': {'overlaying': 'y',\n",
       "                           'showticklabels': True,\n",
       "                           'side': 'right',\n",
       "                           'tickfont': {'color': 'green'},\n",
       "                           'title': {'font': {'color': 'green'}, 'text': 'Variation of information'}},\n",
       "                'yaxis4': {'overlaying': 'y2',\n",
       "                           'tickfont': {'color': 'red'},\n",
       "                           'title': {'font': {'color': 'red'}, 'text': 'Number of communities'}}}\n",
       " }),\n",
       " Layout({\n",
       "     'xaxis': {'range': [-1.0, 1.0]},\n",
       "     'xaxis2': {'range': [-1.0, 1.0]},\n",
       "     'yaxis': {'domain': [0.0, 0.28],\n",
       "               'tickfont': {'color': 'blue'},\n",
       "               'title': {'font': {'color': 'blue'}, 'text': 'Stability'}},\n",
       "     'yaxis2': {'domain': [0.32, 1],\n",
       "                'range': [-1.0, 1.0],\n",
       "                'side': 'right',\n",
       "                'tickfont': {'color': 'black'},\n",
       "                'title': {'font': {'color': 'black'}, 'text': 'log10(scale)'}},\n",
       "     'yaxis3': {'overlaying': 'y',\n",
       "                'showticklabels': True,\n",
       "                'side': 'right',\n",
       "                'tickfont': {'color': 'green'},\n",
       "                'title': {'font': {'color': 'green'}, 'text': 'Variation of information'}},\n",
       "     'yaxis4': {'overlaying': 'y2',\n",
       "                'tickfont': {'color': 'red'},\n",
       "                'title': {'font': {'color': 'red'}, 'text': 'Number of communities'}}\n",
       " }))"
      ]
     },
     "execution_count": 5,
     "metadata": {},
     "output_type": "execute_result"
    }
   ],
   "source": [
    "# plot interactive\n",
    "\n",
    "plotting.plot_scan(all_results, use_plotly=True)"
   ]
  },
  {
   "cell_type": "code",
   "execution_count": 6,
   "metadata": {},
   "outputs": [
    {
     "data": {
      "text/plain": [
       "[None,\n",
       " <AxesSubplot:xlabel='$log_{10}(t)$', ylabel='NVI'>,\n",
       " <AxesSubplot:ylabel='Stability'>,\n",
       " <AxesSubplot:ylabel='Number of clusters'>,\n",
       " <AxesSubplot:xlabel='$log_{10}(t)$', ylabel='Optimal Scale Criterion'>]"
      ]
     },
     "execution_count": 6,
     "metadata": {},
     "output_type": "execute_result"
    },
    {
     "data": {
      "image/png": "[encoded data removed]",
      "text/plain": [
       "<Figure size 432x288 with 6 Axes>"
      ]
     },
     "metadata": {
      "needs_background": "light"
     },
     "output_type": "display_data"
    }
   ],
   "source": [
    "# plot matplotlib\n",
    "\n",
    "plotting.plot_scan(all_results, use_plotly=False)"
   ]
  },
  {
   "cell_type": "code",
   "execution_count": 7,
   "metadata": {},
   "outputs": [
    {
     "data": {
      "image/png": "[encoded data removed]",
      "text/plain": [
       "<Figure size 432x288 with 1 Axes>"
      ]
     },
     "metadata": {},
     "output_type": "display_data"
    }
   ],
   "source": [
    "# plot partition at scale index t\n",
    "\n",
    "pos = nx.spring_layout(nx_graph, weight=None, scale=1)\n",
    "for u in nx_graph:\n",
    "    nx_graph.nodes[u][\"pos\"] = pos[u]\n",
    "\n",
    "t = 12;\n",
    "plotting.plot_single_partition(nx_graph, all_results, t)\n"
   ]
  },
  {
   "cell_type": "code",
   "execution_count": 8,
   "metadata": {},
   "outputs": [
    {
     "data": {
      "image/png": "[encoded data removed]",
      "text/plain": [
       "<Figure size 432x288 with 1 Axes>"
      ]
     },
     "metadata": {},
     "output_type": "display_data"
    }
   ],
   "source": [
    "# plot optimal partitions\n",
    "plotting.plot_optimal_partitions(nx_graph,all_results)"
   ]
  },
  {
   "cell_type": "code",
   "execution_count": 9,
   "metadata": {},
   "outputs": [
    {
     "name": "stderr",
     "output_type": "stream",
     "text": [
      "100%|██████████| 20/20 [01:37<00:00,  4.90s/it]\n"
     ]
    }
   ],
   "source": [
    "# plotting partitions at all scales in './communities' folder\n",
    "\n",
    "plotting.plot_all_partitions(nx_graph, all_results)"
   ]
  }
 ],
 "metadata": {
  "kernelspec": {
   "display_name": "Python 3.10.4 ('pygenstability')",
   "language": "python",
   "name": "python3"
  },
  "language_info": {
   "codemirror_mode": {
    "name": "ipython",
    "version": 3
   },
   "file_extension": ".py",
   "mimetype": "text/x-python",
   "name": "python",
   "nbconvert_exporter": "python",
   "pygments_lexer": "ipython3",
   "version": "3.10.4"
  },
  "vscode": {
   "interpreter": {
    "hash": "4fc2e7dae2846981f6e5d9992700b5fe6ae56ad40f1ee9248e3282dc21aaf165"
   }
  }
 },
 "nbformat": 4,
 "nbformat_minor": 4
}
