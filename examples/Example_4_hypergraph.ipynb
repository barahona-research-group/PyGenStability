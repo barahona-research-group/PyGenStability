{
 "cells": [
  {
   "cell_type": "markdown",
   "metadata": {},
   "source": [
    "# Example 4: Markov Stability on hypergraphs\n",
    "\n",
    "Here, we implement the methodology defined in https://arxiv.org/pdf/2010.14355.pdf"
   ]
  },
  {
   "cell_type": "code",
   "execution_count": null,
   "metadata": {},
   "outputs": [],
   "source": [
    "# The hypernetx package for hypergraphs: https://github.com/pnnl/HyperNetX\n",
    "!pip install hypernetx"
   ]
  },
  {
   "cell_type": "code",
   "execution_count": null,
   "metadata": {},
   "outputs": [],
   "source": [
    "import numpy as np\n",
    "import pandas as pd\n",
    "import networkx as nx\n",
    "import scipy as sc\n",
    "import scipy.sparse as sp\n",
    "import itertools\n",
    "\n",
    "import matplotlib.pyplot as plt\n",
    "\n",
    "import pygenstability as pgs\n",
    "from pygenstability import plotting\n",
    "\n",
    "import hypernetx as hnx\n",
    "from hypernetx.extras import lesmis as lm"
   ]
  },
  {
   "cell_type": "markdown",
   "metadata": {},
   "source": [
    "## Synthetic hypergraph "
   ]
  },
  {
   "cell_type": "code",
   "execution_count": null,
   "metadata": {},
   "outputs": [],
   "source": [
    "edges = {\n",
    "    0: ('1','2','3','4'),\n",
    "    1: ('5','6','7','8'),\n",
    "    2: ('9','10','11','12'),\n",
    "    3: ('13','14','15','16'), \n",
    "    4: ('2','5'),\n",
    "    5: ('4','7'),\n",
    "    6: ('2','7'),\n",
    "    7: ('4','5'),\n",
    "    8: ('7','13'),\n",
    "    9: ('8','14'),\n",
    "    10: ('7','14'),\n",
    "    11: ('13','8'),\n",
    "    12: ('3','9'),\n",
    "    13: ('4','10'),\n",
    "    14: ('3','10'),\n",
    "    15: ('4','9'),\n",
    "    16: ('10','13'),\n",
    "    17: ('12','15'),\n",
    "    18: ('10','15'),\n",
    "    19: ('12','13'),\n",
    "    20: ('4','13'),\n",
    "    21: ('7','10')\n",
    "}\n",
    "\n",
    "hyper_graph = hnx.Hypergraph(edges)\n",
    "hnx.draw(hyper_graph)"
   ]
  },
  {
   "cell_type": "markdown",
   "metadata": {},
   "source": [
    "# Projection of hypergraph"
   ]
  },
  {
   "cell_type": "code",
   "execution_count": null,
   "metadata": {},
   "outputs": [],
   "source": [
    "# construct projected matrix (no hyperedges)\n",
    "incidence = hyper_graph.incidence_matrix().toarray()    \n",
    "graph_projection = np.matmul(incidence, incidence.T)\n",
    "np.fill_diagonal(graph_projection, 0)\n",
    "graph = sp.csr_matrix(graph_projection)\n",
    "\n",
    "# construct network object just for plotting\n",
    "nx_graph = nx.Graph(graph)\n",
    "pos = nx.spring_layout(nx_graph, weight=None, scale=1)\n",
    "for u in nx_graph:\n",
    "    nx_graph.nodes[u][\"pos\"] = pos[u]\n"
   ]
  },
  {
   "cell_type": "code",
   "execution_count": null,
   "metadata": {},
   "outputs": [],
   "source": [
    "results_hypergraph_projection = pgs.run(graph, min_time=-1, max_time=2, n_time=50,\n",
    "                                        constructor='continuous_combinatorial')"
   ]
  },
  {
   "cell_type": "code",
   "execution_count": null,
   "metadata": {},
   "outputs": [],
   "source": [
    "plotting.plot_scan(results_hypergraph_projection, use_plotly=True)"
   ]
  },
  {
   "cell_type": "code",
   "execution_count": null,
   "metadata": {},
   "outputs": [],
   "source": [
    "plotting.plot_scan(results_hypergraph_projection, use_plotly=False)"
   ]
  },
  {
   "cell_type": "markdown",
   "metadata": {},
   "source": [
    "# Equivalent weighted graph"
   ]
  },
  {
   "cell_type": "code",
   "execution_count": null,
   "metadata": {},
   "outputs": [],
   "source": [
    "# defining equivalent weighted network \n",
    "\n",
    "def get_adjacency(H):\n",
    "    \"\"\"Construct Laplacian for HyperGraph H.\n",
    "    \n",
    "    Args:\n",
    "        H: Hypernetx hypergraph object\n",
    "    \"\"\"\n",
    "    incidence = H.incidence_matrix().toarray()\n",
    "    \n",
    "    # hyperedge adjacency matrix\n",
    "    C = np.matmul(incidence.T, incidence)\n",
    "    A = np.matmul(incidence, incidence.T)\n",
    "\n",
    "    R = np.matmul(incidence, np.matmul(np.diag(np.diag(C)), incidence.T))\n",
    "\n",
    "    # defining transition matrix\n",
    "    adj = R - A\n",
    "    np.fill_diagonal(adj, 0)\n",
    "    \n",
    "    return adj"
   ]
  },
  {
   "cell_type": "code",
   "execution_count": null,
   "metadata": {},
   "outputs": [],
   "source": [
    "# adjacency matrix constructed using Carletti method\n",
    "graph_ew = sp.csr_matrix(get_adjacency(hyper_graph))"
   ]
  },
  {
   "cell_type": "code",
   "execution_count": null,
   "metadata": {},
   "outputs": [],
   "source": [
    "results_hypergraph_ew = pgs.run(graph_ew, min_time=-1, max_time=2, n_time=50,\n",
    "                                constructor='continuous_combinatorial')"
   ]
  },
  {
   "cell_type": "code",
   "execution_count": null,
   "metadata": {},
   "outputs": [],
   "source": [
    "plotting.plot_scan(results_hypergraph_ew, use_plotly=True)"
   ]
  },
  {
   "cell_type": "code",
   "execution_count": null,
   "metadata": {},
   "outputs": [],
   "source": [
    "plotting.plot_scan(results_hypergraph_ew, use_plotly=False)"
   ]
  }
 ],
 "metadata": {
  "kernelspec": {
   "display_name": "Python 3",
   "language": "python",
   "name": "python3"
  },
  "language_info": {
   "codemirror_mode": {
    "name": "ipython",
    "version": 3
   },
   "file_extension": ".py",
   "mimetype": "text/x-python",
   "name": "python",
   "nbconvert_exporter": "python",
   "pygments_lexer": "ipython3",
   "version": "3.8.7"
  }
 },
 "nbformat": 4,
 "nbformat_minor": 4
}
